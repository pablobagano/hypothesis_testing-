{
 "cells": [
  {
   "cell_type": "code",
   "execution_count": 1,
   "id": "ed8ea74c-d56c-424d-906b-827b00949827",
   "metadata": {},
   "outputs": [],
   "source": [
    "import pandas as pd\n",
    "import numpy as np \n"
   ]
  },
  {
   "cell_type": "code",
   "execution_count": 2,
   "id": "df58d72f-49d5-4967-b01b-f90dad0f0d36",
   "metadata": {},
   "outputs": [
    {
     "name": "stdout",
     "output_type": "stream",
     "text": [
      "Features: \n",
      "-  Theme\n",
      "-  Click Through Rate\n",
      "-  Conversion Rate\n",
      "-  Bounce Rate\n",
      "-  Scroll_Depth\n",
      "-  Age\n",
      "-  Location\n",
      "-  Session_Duration\n",
      "-  Purchases\n",
      "-  Added_to_Cart\n"
     ]
    }
   ],
   "source": [
    "file = 'website_ab_test.csv'\n",
    "df = pd.read_csv(file)\n",
    "print('Features: ') \n",
    "for feat in df.columns.to_list():\n",
    "    print('- ',feat) "
   ]
  },
  {
   "cell_type": "markdown",
   "id": "5ecea422-8a98-4fce-ab47-5d5d2e38aa51",
   "metadata": {},
   "source": [
    "# <font color=red>A/B Testing & Hypothesis Testing: Statistical Methods in Action </font> \n",
    "\n",
    "## **Introduction**\n",
    "In data-driven decision-making, **A/B testing** plays a crucial role in evaluating whether changes in a product, website, or feature lead to statistically significant improvements. This notebook explores various **hypothesis testing techniques** commonly used in A/B testing scenarios.\n",
    "\n",
    "### **Objective**\n",
    "The goal of this analysis is to determine whether **website theme (Light vs. Dark)** has an impact on **user behavior**, particularly **purchases** and **potential other engagement metrics**.\n",
    "\n",
    "### **Statistical Tests Covered**\n",
    "1. **Chi-Square Test** (✅ Implemented)  \n",
    "   - Used to determine if there is a **significant association** between **categorical variables** (e.g., Theme & Purchase behavior).\n",
    "   - Since **both variables are categorical**, the **Chi-Square test** is an appropriate choice.\n",
    "\n",
    "2. **T-Test** (✅ Implemented)  \n",
    "   - Suitable if we compare **continuous variables** (e.g., session duration, purchase amount) between the two themes.\n",
    "   - Will test whether the means of these metrics **significantly differ** between Light and Dark themes.\n",
    "\n",
    "3. **Z-Test** (❌ Not Needed)\n",
    "    - For a 2×2 scenario (Theme vs. Purchases), the two-proportion Z test and the Chi-Square test of independence are statistically equivalent—so running a separate Z test is redundant.\n",
    "    - For continuous metrics (Session Duration, etc.), we do not know the population standard deviation, making a t-test the standard approach.\n",
    "\n",
    "### **Why This Notebook?**\n",
    "- This notebook provides a structured, hands-on exploration of **statistical hypothesis testing** in A/B experiments. It serves as a reference for selecting the right test based on data types, verifying statistical assumptions, and drawing meaningful business insights.\n",
    "- Link: https://statso.io/light-theme-and-dark-theme-case-study/\n",
    "\n",
    "### **Next Steps**\n",
    "- Perform **a t-test** for comparing **continuous variables**.\n",
    "- Interpret statistical results in a business context.\n",
    "- Expand the notebook with additional A/B testing case studies.\n"
   ]
  },
  {
   "cell_type": "code",
   "execution_count": 4,
   "id": "4d1d40a3-2381-49ff-a94a-6acaefa047ab",
   "metadata": {},
   "outputs": [
    {
     "data": {
      "text/html": [
       "<div>\n",
       "<style scoped>\n",
       "    .dataframe tbody tr th:only-of-type {\n",
       "        vertical-align: middle;\n",
       "    }\n",
       "\n",
       "    .dataframe tbody tr th {\n",
       "        vertical-align: top;\n",
       "    }\n",
       "\n",
       "    .dataframe thead th {\n",
       "        text-align: right;\n",
       "    }\n",
       "</style>\n",
       "<table border=\"1\" class=\"dataframe\">\n",
       "  <thead>\n",
       "    <tr style=\"text-align: right;\">\n",
       "      <th></th>\n",
       "      <th>Theme</th>\n",
       "      <th>Click Through Rate</th>\n",
       "      <th>Conversion Rate</th>\n",
       "      <th>Bounce Rate</th>\n",
       "      <th>Scroll_Depth</th>\n",
       "      <th>Age</th>\n",
       "      <th>Location</th>\n",
       "      <th>Session_Duration</th>\n",
       "      <th>Purchases</th>\n",
       "      <th>Added_to_Cart</th>\n",
       "    </tr>\n",
       "  </thead>\n",
       "  <tbody>\n",
       "    <tr>\n",
       "      <th>0</th>\n",
       "      <td>Light Theme</td>\n",
       "      <td>0.054920</td>\n",
       "      <td>0.282367</td>\n",
       "      <td>0.405085</td>\n",
       "      <td>72.489458</td>\n",
       "      <td>25</td>\n",
       "      <td>Chennai</td>\n",
       "      <td>1535</td>\n",
       "      <td>No</td>\n",
       "      <td>Yes</td>\n",
       "    </tr>\n",
       "    <tr>\n",
       "      <th>1</th>\n",
       "      <td>Light Theme</td>\n",
       "      <td>0.113932</td>\n",
       "      <td>0.032973</td>\n",
       "      <td>0.732759</td>\n",
       "      <td>61.858568</td>\n",
       "      <td>19</td>\n",
       "      <td>Pune</td>\n",
       "      <td>303</td>\n",
       "      <td>No</td>\n",
       "      <td>Yes</td>\n",
       "    </tr>\n",
       "    <tr>\n",
       "      <th>2</th>\n",
       "      <td>Dark Theme</td>\n",
       "      <td>0.323352</td>\n",
       "      <td>0.178763</td>\n",
       "      <td>0.296543</td>\n",
       "      <td>45.737376</td>\n",
       "      <td>47</td>\n",
       "      <td>Chennai</td>\n",
       "      <td>563</td>\n",
       "      <td>Yes</td>\n",
       "      <td>Yes</td>\n",
       "    </tr>\n",
       "    <tr>\n",
       "      <th>3</th>\n",
       "      <td>Light Theme</td>\n",
       "      <td>0.485836</td>\n",
       "      <td>0.325225</td>\n",
       "      <td>0.245001</td>\n",
       "      <td>76.305298</td>\n",
       "      <td>58</td>\n",
       "      <td>Pune</td>\n",
       "      <td>385</td>\n",
       "      <td>Yes</td>\n",
       "      <td>No</td>\n",
       "    </tr>\n",
       "    <tr>\n",
       "      <th>4</th>\n",
       "      <td>Light Theme</td>\n",
       "      <td>0.034783</td>\n",
       "      <td>0.196766</td>\n",
       "      <td>0.765100</td>\n",
       "      <td>48.927407</td>\n",
       "      <td>25</td>\n",
       "      <td>New Delhi</td>\n",
       "      <td>1437</td>\n",
       "      <td>No</td>\n",
       "      <td>No</td>\n",
       "    </tr>\n",
       "  </tbody>\n",
       "</table>\n",
       "</div>"
      ],
      "text/plain": [
       "         Theme  Click Through Rate  Conversion Rate  Bounce Rate  \\\n",
       "0  Light Theme            0.054920         0.282367     0.405085   \n",
       "1  Light Theme            0.113932         0.032973     0.732759   \n",
       "2   Dark Theme            0.323352         0.178763     0.296543   \n",
       "3  Light Theme            0.485836         0.325225     0.245001   \n",
       "4  Light Theme            0.034783         0.196766     0.765100   \n",
       "\n",
       "   Scroll_Depth  Age   Location  Session_Duration Purchases Added_to_Cart  \n",
       "0     72.489458   25    Chennai              1535        No           Yes  \n",
       "1     61.858568   19       Pune               303        No           Yes  \n",
       "2     45.737376   47    Chennai               563       Yes           Yes  \n",
       "3     76.305298   58       Pune               385       Yes            No  \n",
       "4     48.927407   25  New Delhi              1437        No            No  "
      ]
     },
     "execution_count": 4,
     "metadata": {},
     "output_type": "execute_result"
    }
   ],
   "source": [
    "df.head() "
   ]
  },
  {
   "cell_type": "markdown",
   "id": "765ba803-486a-4b83-a3e4-f71cd9a64206",
   "metadata": {},
   "source": [
    "# <font color=red>Chi-Square Test</font> "
   ]
  },
  {
   "cell_type": "markdown",
   "id": "5b9b2836-ea77-4b5a-81cf-b7937a571292",
   "metadata": {},
   "source": [
    "## Feature Selection and Application of the Chi-Square Test\n",
    "\n",
    "### Feature Selection\n",
    "In this analysis, the primary goal is to evaluate whether the **theme of the website (Light vs. Dark)** has a significant impact on the **purchase behavior** of users. The following features were selected:\n",
    "\n",
    "- **Theme**: Categorical variable representing the visual theme of the website (Light Theme or Dark Theme).\n",
    "- **Purchases**: Categorical outcome variable with two possible states: \"Yes\" (purchase made) and \"No\" (no purchase made).\n",
    "\n",
    "These variables were chosen because the relationship between a website's theme and user behavior (specifically purchase decisions) is critical for assessing the effectiveness of UI design strategies.\n",
    "\n",
    "### Why the Chi-Square Test?\n",
    "The **Chi-Square Test of Independence** is an appropriate statistical test for this scenario because:\n",
    "1. Both variables (**Theme** and **Purchases**) are **categorical**.\n",
    "2. The test evaluates whether there is a **significant association** between the two variables.\n",
    "3. It determines whether the observed differences in purchase behavior across themes are likely due to chance or represent a true relationship.\n",
    "\n",
    "The test was applied to a **2×2 contingency table** where:\n",
    "- Rows represent the two themes (Light and Dark).\n",
    "- Columns represent the two outcomes (Yes and No).\n",
    "\n",
    "### Key Assumptions\n",
    "- **Independence**: Each user interaction is independent of others.\n",
    "- **Expected Frequency**: The expected frequency in each cell of the contingency table is greater than 5, ensuring the validity of the Chi-Square approximation.\n",
    "\n",
    "By running the Chi-Square test, we aim to understand whether the choice of theme significantly affects purchase behavior, providing actionable insights into UI/UX optimization.\n"
   ]
  },
  {
   "cell_type": "code",
   "execution_count": 7,
   "id": "1e7b17d6-a19d-4663-8399-392d169d7ba1",
   "metadata": {},
   "outputs": [
    {
     "data": {
      "text/html": [
       "<div>\n",
       "<style scoped>\n",
       "    .dataframe tbody tr th:only-of-type {\n",
       "        vertical-align: middle;\n",
       "    }\n",
       "\n",
       "    .dataframe tbody tr th {\n",
       "        vertical-align: top;\n",
       "    }\n",
       "\n",
       "    .dataframe thead th {\n",
       "        text-align: right;\n",
       "    }\n",
       "</style>\n",
       "<table border=\"1\" class=\"dataframe\">\n",
       "  <thead>\n",
       "    <tr style=\"text-align: right;\">\n",
       "      <th>Purchases</th>\n",
       "      <th>Theme</th>\n",
       "      <th>No</th>\n",
       "      <th>Yes</th>\n",
       "    </tr>\n",
       "  </thead>\n",
       "  <tbody>\n",
       "    <tr>\n",
       "      <th>0</th>\n",
       "      <td>Dark Theme</td>\n",
       "      <td>255</td>\n",
       "      <td>259</td>\n",
       "    </tr>\n",
       "    <tr>\n",
       "      <th>1</th>\n",
       "      <td>Light Theme</td>\n",
       "      <td>228</td>\n",
       "      <td>258</td>\n",
       "    </tr>\n",
       "  </tbody>\n",
       "</table>\n",
       "</div>"
      ],
      "text/plain": [
       "Purchases        Theme   No  Yes\n",
       "0           Dark Theme  255  259\n",
       "1          Light Theme  228  258"
      ]
     },
     "execution_count": 7,
     "metadata": {},
     "output_type": "execute_result"
    }
   ],
   "source": [
    "purchases = df.groupby('Theme')['Purchases'].value_counts().to_frame().reset_index().pivot(index='Theme', columns='Purchases', values ='count').reset_index() \n",
    "purchases"
   ]
  },
  {
   "cell_type": "code",
   "execution_count": 8,
   "id": "7545161c-a43b-47c0-af7a-fd48bd6494d3",
   "metadata": {},
   "outputs": [
    {
     "name": "stdout",
     "output_type": "stream",
     "text": [
      "Dark Theme row total: 514\n",
      "Light Theme row total: 486\n"
     ]
    },
    {
     "data": {
      "text/html": [
       "<div>\n",
       "<style scoped>\n",
       "    .dataframe tbody tr th:only-of-type {\n",
       "        vertical-align: middle;\n",
       "    }\n",
       "\n",
       "    .dataframe tbody tr th {\n",
       "        vertical-align: top;\n",
       "    }\n",
       "\n",
       "    .dataframe thead th {\n",
       "        text-align: right;\n",
       "    }\n",
       "</style>\n",
       "<table border=\"1\" class=\"dataframe\">\n",
       "  <thead>\n",
       "    <tr style=\"text-align: right;\">\n",
       "      <th>Purchases</th>\n",
       "      <th>Theme</th>\n",
       "      <th>No</th>\n",
       "      <th>Yes</th>\n",
       "      <th>Row Total</th>\n",
       "    </tr>\n",
       "  </thead>\n",
       "  <tbody>\n",
       "    <tr>\n",
       "      <th>0</th>\n",
       "      <td>Dark Theme</td>\n",
       "      <td>255</td>\n",
       "      <td>259</td>\n",
       "      <td>514</td>\n",
       "    </tr>\n",
       "    <tr>\n",
       "      <th>1</th>\n",
       "      <td>Light Theme</td>\n",
       "      <td>228</td>\n",
       "      <td>258</td>\n",
       "      <td>486</td>\n",
       "    </tr>\n",
       "  </tbody>\n",
       "</table>\n",
       "</div>"
      ],
      "text/plain": [
       "Purchases        Theme   No  Yes  Row Total\n",
       "0           Dark Theme  255  259        514\n",
       "1          Light Theme  228  258        486"
      ]
     },
     "execution_count": 8,
     "metadata": {},
     "output_type": "execute_result"
    }
   ],
   "source": [
    "no_yes = purchases['No Yes'.split()].columns.to_list()\n",
    "row_total = []\n",
    "col_total = [] \n",
    "for row in purchases.index.to_list():\n",
    "    row_sum = purchases.iloc[row]['No Yes'.split()].sum()\n",
    "    print(f\"{purchases.iloc[row]['Theme']} row total: {row_sum}\")\n",
    "    row_total.append(row_sum)\n",
    "purchases['Row Total'] = None\n",
    "purchases['Row Total'] = row_total\n",
    "purchases"
   ]
  },
  {
   "cell_type": "code",
   "execution_count": 9,
   "id": "9a643747-fc5f-4a51-b41b-f5c089701f7c",
   "metadata": {},
   "outputs": [
    {
     "data": {
      "text/html": [
       "<div>\n",
       "<style scoped>\n",
       "    .dataframe tbody tr th:only-of-type {\n",
       "        vertical-align: middle;\n",
       "    }\n",
       "\n",
       "    .dataframe tbody tr th {\n",
       "        vertical-align: top;\n",
       "    }\n",
       "\n",
       "    .dataframe thead th {\n",
       "        text-align: right;\n",
       "    }\n",
       "</style>\n",
       "<table border=\"1\" class=\"dataframe\">\n",
       "  <thead>\n",
       "    <tr style=\"text-align: right;\">\n",
       "      <th>Purchases</th>\n",
       "      <th>Theme</th>\n",
       "      <th>No</th>\n",
       "      <th>Yes</th>\n",
       "      <th>Row Total</th>\n",
       "    </tr>\n",
       "  </thead>\n",
       "  <tbody>\n",
       "    <tr>\n",
       "      <th>0</th>\n",
       "      <td>Dark Theme</td>\n",
       "      <td>255</td>\n",
       "      <td>259</td>\n",
       "      <td>514</td>\n",
       "    </tr>\n",
       "    <tr>\n",
       "      <th>1</th>\n",
       "      <td>Light Theme</td>\n",
       "      <td>228</td>\n",
       "      <td>258</td>\n",
       "      <td>486</td>\n",
       "    </tr>\n",
       "    <tr>\n",
       "      <th>2</th>\n",
       "      <td>Colum Total</td>\n",
       "      <td>483</td>\n",
       "      <td>517</td>\n",
       "      <td>1000</td>\n",
       "    </tr>\n",
       "  </tbody>\n",
       "</table>\n",
       "</div>"
      ],
      "text/plain": [
       "Purchases        Theme   No  Yes  Row Total\n",
       "0           Dark Theme  255  259        514\n",
       "1          Light Theme  228  258        486\n",
       "2          Colum Total  483  517       1000"
      ]
     },
     "execution_count": 9,
     "metadata": {},
     "output_type": "execute_result"
    }
   ],
   "source": [
    "row_total = purchases[[\"No\", \"Yes\"]].sum()\n",
    "new_index = purchases.index.max() + 1 \n",
    "purchases.loc[new_index] = ['Colum Total', row_total[\"No\"], row_total[\"Yes\"], sum(row_total)]\n",
    "purchases "
   ]
  },
  {
   "cell_type": "code",
   "execution_count": 10,
   "id": "cb5d8206-6f2e-4fa9-9b5d-8ced481067b3",
   "metadata": {},
   "outputs": [
    {
     "name": "stdout",
     "output_type": "stream",
     "text": [
      "Dark Theme expected No:  248.262\n",
      "Light Theme expected No:  234.738\n",
      "\n",
      "\n",
      "Dark Theme expected Yes:  265.738\n",
      "Light Theme expected Yes:  251.262\n",
      "\n",
      "\n",
      "Expected No: [248.262, 234.738, None]\n",
      "Expected Yes: [265.738, 251.262, None]\n"
     ]
    }
   ],
   "source": [
    "exp_no = []\n",
    "for i in [0,1,5]:\n",
    "    try:\n",
    "        exp = purchases['Row Total'][i] * purchases['No'].iloc[-1] / purchases['Row Total'].iloc[-1]\n",
    "        print(purchases['Theme'][i],'expected No: ', exp)\n",
    "    except:\n",
    "        exp = None\n",
    "    finally:\n",
    "        exp_no.append(exp)\n",
    "print('\\n') \n",
    "exp_yes = [] \n",
    "for i in [0,1,5]:\n",
    "    try:\n",
    "        exp = purchases['Row Total'][i] * purchases['Yes'].iloc[-1] / purchases['Row Total'].iloc[-1]\n",
    "        print(purchases['Theme'][i],'expected Yes: ', exp)\n",
    "    except:\n",
    "        exp = None\n",
    "    finally:\n",
    "        exp_yes.append(exp)\n",
    "print('\\n') \n",
    "print(f'Expected No: {exp_no}')\n",
    "print(f'Expected Yes: {exp_yes}')"
   ]
  },
  {
   "cell_type": "code",
   "execution_count": 11,
   "id": "4801eb30-5b19-459d-a927-ec0af6e97695",
   "metadata": {},
   "outputs": [
    {
     "data": {
      "text/html": [
       "<div>\n",
       "<style scoped>\n",
       "    .dataframe tbody tr th:only-of-type {\n",
       "        vertical-align: middle;\n",
       "    }\n",
       "\n",
       "    .dataframe tbody tr th {\n",
       "        vertical-align: top;\n",
       "    }\n",
       "\n",
       "    .dataframe thead th {\n",
       "        text-align: right;\n",
       "    }\n",
       "</style>\n",
       "<table border=\"1\" class=\"dataframe\">\n",
       "  <thead>\n",
       "    <tr style=\"text-align: right;\">\n",
       "      <th>Purchases</th>\n",
       "      <th>Theme</th>\n",
       "      <th>No</th>\n",
       "      <th>Yes</th>\n",
       "      <th>Row Total</th>\n",
       "      <th>Expected No</th>\n",
       "      <th>Expected Yes</th>\n",
       "    </tr>\n",
       "  </thead>\n",
       "  <tbody>\n",
       "    <tr>\n",
       "      <th>0</th>\n",
       "      <td>Dark Theme</td>\n",
       "      <td>255</td>\n",
       "      <td>259</td>\n",
       "      <td>514</td>\n",
       "      <td>248.262</td>\n",
       "      <td>265.738</td>\n",
       "    </tr>\n",
       "    <tr>\n",
       "      <th>1</th>\n",
       "      <td>Light Theme</td>\n",
       "      <td>228</td>\n",
       "      <td>258</td>\n",
       "      <td>486</td>\n",
       "      <td>234.738</td>\n",
       "      <td>251.262</td>\n",
       "    </tr>\n",
       "    <tr>\n",
       "      <th>2</th>\n",
       "      <td>Colum Total</td>\n",
       "      <td>483</td>\n",
       "      <td>517</td>\n",
       "      <td>1000</td>\n",
       "      <td>NaN</td>\n",
       "      <td>NaN</td>\n",
       "    </tr>\n",
       "  </tbody>\n",
       "</table>\n",
       "</div>"
      ],
      "text/plain": [
       "Purchases        Theme   No  Yes  Row Total  Expected No  Expected Yes\n",
       "0           Dark Theme  255  259        514      248.262       265.738\n",
       "1          Light Theme  228  258        486      234.738       251.262\n",
       "2          Colum Total  483  517       1000          NaN           NaN"
      ]
     },
     "execution_count": 11,
     "metadata": {},
     "output_type": "execute_result"
    }
   ],
   "source": [
    "purchases['Expected No'] = exp_no\n",
    "purchases['Expected Yes'] = exp_yes\n",
    "purchases"
   ]
  },
  {
   "cell_type": "markdown",
   "id": "c2168fa2-f8e7-41c0-b514-cfa6874ab4ee",
   "metadata": {},
   "source": [
    "# $$\\chi^2 = \\sum_{i=1}^{k}{\\frac{(F_{i}^{Obs} - F_{i}^{Esp})^2}{F_{i}^{Esp}}}$$\n",
    "\n",
    "### Formula Explanation\n",
    "The Chi-Square statistic ($\\chi^2$) is calculated to test whether there is a significant difference between **observed frequencies** and **expected frequencies** in categorical data. Here’s what each component of the formula represents:\n",
    "\n",
    "- **$\\chi^2$**: The Chi-Square statistic, which quantifies the difference between observed and expected frequencies.\n",
    "- **$k$**: The number of categories or events.\n",
    "- **$F_{i}^{Obs}$**: The **observed frequency** for category $i$.\n",
    "- **$F_{i}^{Esp}$**: The **expected frequency** for category $i$.\n",
    "- **$\\sum_{i=1}^{k}$**: The summation over all $k$ categories.\n",
    "\n",
    "### How It Works\n",
    "1. For each category, compute the difference between the observed frequency ($F_{i}^{Obs}$) and the expected frequency ($F_{i}^{Esp}$).\n",
    "2. Square this difference to ensure positive contributions.\n",
    "3. Divide the squared difference by the expected frequency ($F_{i}^{Esp}$).\n",
    "4. Sum these values across all categories to get the final $\\chi^2$ statistic.\n",
    "\n",
    "### Key Insights\n",
    "- A **larger $\\chi^2$** value indicates a greater difference between observed and expected frequencies, which might suggest a significant relationship between variables.\n",
    "- This statistic is then compared to a critical value (or converted into a p-value) based on the degrees of freedom to draw conclusions about statistical significance.\n"
   ]
  },
  {
   "cell_type": "code",
   "execution_count": 13,
   "id": "1599ebc3-12ff-4b1c-9c53-6933fb2487e6",
   "metadata": {},
   "outputs": [
    {
     "name": "stdout",
     "output_type": "stream",
     "text": [
      "- Observed frequencies: [[255 259]\n",
      " [228 258]]\n",
      "- Expected frequencies: [[248.262 265.738]\n",
      " [234.738 251.262]]\n",
      "- Number of categories/rows: 2\n",
      "- Number of events/columns: 2\n",
      "- Degrees of Freedom: 1\n"
     ]
    }
   ],
   "source": [
    "observed = purchases.iloc[0:2]['No Yes'.split()].values\n",
    "expected = purchases.iloc[0:2]['Expected No,Expected Yes'.split(',')].values\n",
    "n_rows = observed.shape[0]\n",
    "n_cols = observed.shape[1] \n",
    "print(f\"- Observed frequencies: {observed}\") \n",
    "print(f\"- Expected frequencies: {expected}\")\n",
    "print(f\"- Number of categories/rows: {n_rows}\") \n",
    "print(f\"- Number of events/columns: {n_cols}\")\n",
    "degrees_of_freedom = (n_rows - 1) * (n_cols - 1) \n",
    "print(f'- Degrees of Freedom: {degrees_of_freedom}') "
   ]
  },
  {
   "cell_type": "markdown",
   "id": "ff23b120-7f51-41e0-821a-d05d0c01dd42",
   "metadata": {},
   "source": [
    "- Instead of using a loop to calculate the Chi-Square statistic for each cell in the contingency table, we leverage NumPy's ability to perform **vectorized operations**. This approach allows us to compute the differences, square them, divide by the expected frequencies, and sum the results across all elements in the table in a single line of code. This not only simplifies the implementation but also makes it more efficient and scalable for larger datasets.\n"
   ]
  },
  {
   "cell_type": "code",
   "execution_count": 15,
   "id": "3fb49030-629b-441f-b55c-e2c282c0614f",
   "metadata": {},
   "outputs": [
    {
     "name": "stdout",
     "output_type": "stream",
     "text": [
      "Chi-Squared: 0.7278216183118809\n"
     ]
    }
   ],
   "source": [
    "chi_2 = np.sum((observed - expected) ** 2 / expected, axis=None)\n",
    "print('Chi-Squared:', chi_2)"
   ]
  },
  {
   "cell_type": "markdown",
   "id": "d31d4ffe-d388-4c5c-8be7-8f741b138024",
   "metadata": {},
   "source": [
    "Now we calculate the **critical value** for the Chi-Square test at a 95% confidence level using `chi2.ppf()`. This value represents the threshold for rejecting the null hypothesis. By comparing the computed Chi-Square statistic (`chi_2`) with the critical value, we determine whether the observed differences are statistically significant. If `chi_2` exceeds the critical value, we reject the null hypothesis, indicating a significant relationship between the variables.\n"
   ]
  },
  {
   "cell_type": "code",
   "execution_count": 17,
   "id": "edc12db8-91d7-49d2-856b-327db8022a1d",
   "metadata": {},
   "outputs": [
    {
     "name": "stdout",
     "output_type": "stream",
     "text": [
      "Critical Value: 3.8414588206941205\n",
      "Fail to reject the null hypothesis: No significant relationship.\n"
     ]
    }
   ],
   "source": [
    "from scipy.stats import chi2, chi2_contingency\n",
    "\n",
    "alpha = 0.05  # 95% confidence level\n",
    "critical_value = chi2.ppf(1 - alpha, degrees_of_freedom)\n",
    "\n",
    "print(f'Critical Value: {critical_value}')\n",
    "if chi_2 > critical_value:\n",
    "    print(\"Reject the null hypothesis: There is a significant relationship.\")\n",
    "else:\n",
    "    print(\"Fail to reject the null hypothesis: No significant relationship.\")\n"
   ]
  },
  {
   "cell_type": "markdown",
   "id": "4ec9bd37-fa56-48ed-b517-f3339fb725c2",
   "metadata": {},
   "source": [
    "The p-value represents the probability of obtaining a Chi-Square statistic as extreme as `chi_2`, or more so, under the assumption that the null hypothesis is true. In this cell, the p-value is calculated using `chi2.sf()`, which computes the upper tail probability for the Chi-Square distribution. If the p-value is less than the significance level `alpha = 0.05`, we reject the null hypothesis, indicating a statistically significant relationship between the variables. Otherwise, we fail to reject the null hypothesis."
   ]
  },
  {
   "cell_type": "code",
   "execution_count": 19,
   "id": "60343011-ba78-4cba-bc5f-ed8baaa83bd0",
   "metadata": {},
   "outputs": [
    {
     "name": "stdout",
     "output_type": "stream",
     "text": [
      "P Value: 0.3935901993412787\n",
      "Fail to reject the null hypothesis: No significant relationship.\n"
     ]
    }
   ],
   "source": [
    "alpha = 0.05\n",
    "p_value = chi2.sf(chi_2, degrees_of_freedom) \n",
    "print(f'P Value: {p_value}') \n",
    "if p_value < alpha:\n",
    "    print(\"Reject the null hypothesis: There is a significant relationship.\")\n",
    "else:\n",
    "    print(\"Fail to reject the null hypothesis: No significant relationship.\")"
   ]
  },
  {
   "cell_type": "markdown",
   "id": "7c585cb4-54c5-42bf-bf52-28548de7f9bc",
   "metadata": {},
   "source": [
    "All the calculations were performed manually, but we  can use `scipy.stats.chi2_contingency()` to perform the Chi-Square test of independence on the contingency table (`observed`). This function automates the calculation of the Chi-Square statistic, p-value, degrees of freedom, and expected frequencies. \n",
    "\n",
    "We set `correction=False` to disable Yates' continuity correction, which is applied by default for 2×2 tables. While Yates' correction helps prevent overestimation of significance in small samples, it can lead to overly conservative results. Disabling it ensures the calculation matches the manually computed Chi-Square statistic and p-value.\n",
    "\n",
    "The decision rule is based on the p-value: if it is less than the significance level $\\alpha = 0.05$, we reject the null hypothesis, indicating a significant relationship between the variables. Otherwise, we fail to reject the null hypothesis, suggesting no strong evidence of association.\n"
   ]
  },
  {
   "cell_type": "code",
   "execution_count": 21,
   "id": "7846e47a-ad50-44ab-bcd4-1f79ef9944fe",
   "metadata": {},
   "outputs": [
    {
     "name": "stdout",
     "output_type": "stream",
     "text": [
      "Chi-Square Statistic: 0.7278216183118809\n",
      "p-value: 0.3935901993412787\n",
      "Degrees of freedom: 1\n",
      "Expected frequency: [[248.262 265.738]\n",
      " [234.738 251.262]]\n",
      "Fail to reject the null hypothesis: No significant relationship.\n"
     ]
    }
   ],
   "source": [
    "chi2_stat, p_value, dof, expected_freq = chi2_contingency(observed, correction=False) \n",
    "\n",
    "print(f'Chi-Square Statistic: {chi2_stat}')\n",
    "print(f'p-value: {p_value}')\n",
    "print(f'Degrees of freedom: {dof}') \n",
    "print(f'Expected frequency: {expected_freq}') \n",
    "if chi_2 < p_value:\n",
    "    print(\"Reject the null hypothesis: There is a significant relationship.\")\n",
    "else:\n",
    "    print(\"Fail to reject the null hypothesis: No significant relationship.\")"
   ]
  },
  {
   "cell_type": "markdown",
   "id": "2a5ab2dd-56e0-495f-9e25-d3390505ecd3",
   "metadata": {},
   "source": [
    "# <font color=red>T-Test</font> "
   ]
  },
  {
   "cell_type": "markdown",
   "id": "c10b107e-0ff8-477e-b205-e3e98697c764",
   "metadata": {},
   "source": [
    "## Feature Selection and Application of the T-Test for Click-Through Rate\n",
    "\n",
    "### Feature Selection\n",
    "In this analysis, we aim to determine whether the **theme of the website (Light vs. Dark)** has a significant impact on the **Click-Through Rate (CTR)**. The following features were selected:\n",
    "\n",
    "- **Theme**: Categorical variable representing the visual theme of the website (Light Theme or Dark Theme).\n",
    "- **Click-Through Rate (CTR)**: A continuous variable representing the percentage of users who clicked on an element after viewing it.\n",
    "\n",
    "These variables were chosen because **CTR is a key engagement metric**, and understanding whether different themes affect user interaction can help optimize website design.\n",
    "\n",
    "### Why the T-Test?\n",
    "The **Independent Samples T-Test** is the appropriate statistical test for this scenario because:\n",
    "1. **The independent variable (Theme) is categorical** with two groups: Light Theme and Dark Theme.\n",
    "2. **The dependent variable (CTR) is continuous**, making it suitable for a mean comparison.\n",
    "3. The test evaluates whether the **mean CTR differs significantly** between the two themes.\n",
    "\n",
    "The **null hypothesis (\\(H_0\\))** assumes that there is **no difference in the mean CTR** between the Light and Dark themes. The **alternative hypothesis (\\(H_A\\))** assumes that the themes lead to significantly different click-through behaviors.\n",
    "\n",
    "### Key Assumptions\n",
    "- **Independence**: The observations in each theme group are independent of one another.\n",
    "- **Normality**: CTR data should be approximately normally distributed within each group.\n",
    "- **Equal Variance**: The variance of CTR across both groups should be approximately equal (can be tested using Levene’s test).\n",
    "\n",
    "By applying the T-test, we aim to evaluate whether **website theme impacts user engagement**, providing actionable insights for design optimization.\n"
   ]
  },
  {
   "cell_type": "markdown",
   "id": "8c67cec2-a434-4067-b680-f322313f3de3",
   "metadata": {},
   "source": [
    "## Checking Sample Sizes Before the T-Test\n",
    "\n",
    "Before performing a **T-test** to compare the mean Click-Through Rate (CTR) between the Light and Dark themes, we check the sample sizes for each group.\n",
    "\n",
    "For the **Chi-Square test**, this step was **not necessary** because:\n",
    "- The **Chi-Square test is robust to sample size differences**, as it operates on categorical data.\n",
    "- The test validity was ensured by meeting the **expected frequency condition** (i.e., no expected values below 5).\n",
    "\n",
    "However, for a **T-test**, sample size differences can impact the assumption of **equal variance**, potentially affecting test accuracy. This is why we assess both **sample sizes and variances** before proceeding.\n"
   ]
  },
  {
   "cell_type": "code",
   "execution_count": 25,
   "id": "24717182-6d19-46e8-bba0-42a43050951b",
   "metadata": {},
   "outputs": [
    {
     "data": {
      "text/html": [
       "<div>\n",
       "<style scoped>\n",
       "    .dataframe tbody tr th:only-of-type {\n",
       "        vertical-align: middle;\n",
       "    }\n",
       "\n",
       "    .dataframe tbody tr th {\n",
       "        vertical-align: top;\n",
       "    }\n",
       "\n",
       "    .dataframe thead th {\n",
       "        text-align: right;\n",
       "    }\n",
       "</style>\n",
       "<table border=\"1\" class=\"dataframe\">\n",
       "  <thead>\n",
       "    <tr style=\"text-align: right;\">\n",
       "      <th>Theme</th>\n",
       "      <th>Dark Theme</th>\n",
       "      <th>Light Theme</th>\n",
       "    </tr>\n",
       "  </thead>\n",
       "  <tbody>\n",
       "    <tr>\n",
       "      <th>0</th>\n",
       "      <td>0.323352</td>\n",
       "      <td>0.054920</td>\n",
       "    </tr>\n",
       "    <tr>\n",
       "      <th>1</th>\n",
       "      <td>0.110551</td>\n",
       "      <td>0.113932</td>\n",
       "    </tr>\n",
       "    <tr>\n",
       "      <th>2</th>\n",
       "      <td>0.302031</td>\n",
       "      <td>0.485836</td>\n",
       "    </tr>\n",
       "    <tr>\n",
       "      <th>3</th>\n",
       "      <td>0.492174</td>\n",
       "      <td>0.034783</td>\n",
       "    </tr>\n",
       "    <tr>\n",
       "      <th>4</th>\n",
       "      <td>0.493888</td>\n",
       "      <td>0.173419</td>\n",
       "    </tr>\n",
       "    <tr>\n",
       "      <th>...</th>\n",
       "      <td>...</td>\n",
       "      <td>...</td>\n",
       "    </tr>\n",
       "    <tr>\n",
       "      <th>509</th>\n",
       "      <td>0.265413</td>\n",
       "      <td>NaN</td>\n",
       "    </tr>\n",
       "    <tr>\n",
       "      <th>510</th>\n",
       "      <td>0.212645</td>\n",
       "      <td>NaN</td>\n",
       "    </tr>\n",
       "    <tr>\n",
       "      <th>511</th>\n",
       "      <td>0.282792</td>\n",
       "      <td>NaN</td>\n",
       "    </tr>\n",
       "    <tr>\n",
       "      <th>512</th>\n",
       "      <td>0.299917</td>\n",
       "      <td>NaN</td>\n",
       "    </tr>\n",
       "    <tr>\n",
       "      <th>513</th>\n",
       "      <td>0.342588</td>\n",
       "      <td>NaN</td>\n",
       "    </tr>\n",
       "  </tbody>\n",
       "</table>\n",
       "<p>514 rows × 2 columns</p>\n",
       "</div>"
      ],
      "text/plain": [
       "Theme  Dark Theme  Light Theme\n",
       "0        0.323352     0.054920\n",
       "1        0.110551     0.113932\n",
       "2        0.302031     0.485836\n",
       "3        0.492174     0.034783\n",
       "4        0.493888     0.173419\n",
       "..            ...          ...\n",
       "509      0.265413          NaN\n",
       "510      0.212645          NaN\n",
       "511      0.282792          NaN\n",
       "512      0.299917          NaN\n",
       "513      0.342588          NaN\n",
       "\n",
       "[514 rows x 2 columns]"
      ]
     },
     "execution_count": 25,
     "metadata": {},
     "output_type": "execute_result"
    }
   ],
   "source": [
    "ctr_grouped = df.groupby('Theme')['Click Through Rate'].apply(list)\n",
    "ctr_pivot = pd.DataFrame(ctr_grouped.tolist(), index=ctr_grouped.index).T\n",
    "ctr_pivot"
   ]
  },
  {
   "cell_type": "code",
   "execution_count": 26,
   "id": "5dd99d63-ddd6-4107-bb5f-6db70827ef18",
   "metadata": {},
   "outputs": [
    {
     "data": {
      "text/plain": [
       "Theme\n",
       "Dark Theme     514\n",
       "Light Theme    486\n",
       "Name: count, dtype: int64"
      ]
     },
     "execution_count": 26,
     "metadata": {},
     "output_type": "execute_result"
    }
   ],
   "source": [
    "df['Theme'].value_counts()"
   ]
  },
  {
   "cell_type": "markdown",
   "id": "8678cc31-ac78-4f93-b326-aff04b19e9bf",
   "metadata": {},
   "source": [
    "## Calculating Variance for Each Theme\n",
    "\n",
    "To determine if the **variances of Click-Through Rate (CTR) differ between themes**, we compute the variance for each theme separately.\n"
   ]
  },
  {
   "cell_type": "code",
   "execution_count": 28,
   "id": "3e0d5e8f-b7df-4854-a71a-7d7ef3b6dd5e",
   "metadata": {},
   "outputs": [
    {
     "name": "stdout",
     "output_type": "stream",
     "text": [
      "[0.018811911457100493, 0.019836431683112173]\n"
     ]
    }
   ],
   "source": [
    "vars=[]\n",
    "for theme in df['Theme'].unique():\n",
    "    var=df['Click Through Rate'][df['Theme']==theme].var()\n",
    "    vars.append(var) \n",
    "\n",
    "print(vars)"
   ]
  },
  {
   "cell_type": "markdown",
   "id": "11580c9c-e6a3-4e7b-bc6e-c68d5a8d324c",
   "metadata": {},
   "source": [
    "## Assessing Variance Differences Before the T-Test\n",
    "\n",
    "At first sight, the difference between the variances of Click-Through Rate (CTR) for the Light and Dark themes appears to be **insignificant**. However, to ensure statistical rigor, we will formally test for **variance equality** using **Levene’s Test for Variance Equality**.\n",
    "\n",
    "This step is critical because:\n",
    "- The **T-test assumes equal variances** between groups.\n",
    "- If the assumption is violated, using a standard T-test may lead to incorrect conclusions.\n",
    "- **Levene’s Test** provides an objective way to determine whether we should proceed with a **standard T-test** or switch to **Welch’s T-test** (which does not assume equal variances).\n",
    "\n",
    "By running this test, we ensure that our analysis meets the **necessary statistical rigor** and that our results are **valid and reliable**.\n"
   ]
  },
  {
   "cell_type": "markdown",
   "id": "b2a1e775-cfd3-4741-b3ed-63037a3aec22",
   "metadata": {},
   "source": [
    "## Levene’s Test for Variance Equality\n",
    "\n",
    "### **Why Are We Running This Test?**\n",
    "Before performing a **T-test** to compare the mean Click-Through Rate (CTR) between the Light and Dark themes, we need to check a key assumption: **homogeneity of variances** (i.e., both groups should have similar variances).\n",
    "\n",
    "The **Independent Samples T-test** assumes that the two groups have equal variance. If this assumption does not hold, using a standard T-test may lead to incorrect results. **Levene's Test** helps us determine whether we should assume equal variances or adjust our test accordingly.\n",
    "\n",
    "### **What is Levene’s Test?**\n",
    "Levene’s test checks whether the variance in **Click-Through Rate (CTR)** is significantly different between the two groups.\n",
    "\n",
    "- **Null Hypothesis $(H_0)$**: The variances of the two groups are equal.\n",
    "- **Alternative Hypothesis $(H_A)$**: The variances of the two groups are different.\n",
    "\n",
    "### **Decision Rule**\n",
    "- If **p-value > 0.05** → **Fail to reject $(H_0)$** → Assume equal variances → Use **standard T-test** (`equal_var=True`).\n",
    "- If **p-value ≤ 0.05** → **Reject $(H_0)$** → Variances are different → Use **Welch’s T-test** (`equal_var=False`).\n",
    "\n",
    "### **Why This Matters for Our T-Test**\n",
    "- If Levene’s Test confirms that variances are **equal**, we can proceed with the **standard Independent Samples T-test**.\n",
    "- If variances are **not equal**, we use **Welch’s T-test**, which adjusts for unequal variances.\n",
    "\n",
    "By running Levene’s Test, we ensure that we choose the **correct version of the T-test**, making our statistical conclusions more reliable.\n"
   ]
  },
  {
   "cell_type": "code",
   "execution_count": 31,
   "id": "c820d5c9-5fba-4e9c-9186-d43055b49ab5",
   "metadata": {},
   "outputs": [
    {
     "name": "stdout",
     "output_type": "stream",
     "text": [
      "Levene's Test Statistic: 1.0173917110137343\n",
      "p-value: 0.31338298665162745\n",
      "Fail to reject null hypothesis: Variances are equal.\n"
     ]
    }
   ],
   "source": [
    "from scipy.stats import levene\n",
    "\n",
    "\n",
    "dark_theme_ctr = df[df['Theme'] == 'Dark Theme']['Click Through Rate']\n",
    "light_theme_ctr = df[df['Theme'] == 'Light Theme']['Click Through Rate']\n",
    "\n",
    "\n",
    "stat, p = levene(dark_theme_ctr, light_theme_ctr)\n",
    "\n",
    "print(f\"Levene's Test Statistic: {stat}\")\n",
    "print(f\"p-value: {p}\")\n",
    "\n",
    "# Decision based on p-value\n",
    "if p > 0.05:\n",
    "    print(\"Fail to reject null hypothesis: Variances are equal.\")\n",
    "else:\n",
    "    print(\"Reject null hypothesis: Variances are not equal.\")\n"
   ]
  },
  {
   "cell_type": "markdown",
   "id": "c33e39c4-03e1-430e-828f-16360defab4a",
   "metadata": {},
   "source": [
    "## Extracting Summary Statistics: Mean, Standard Deviation, and Sample Size\n",
    "\n",
    "### **Why Are We Computing These Statistics?**\n",
    "Before conducting hypothesis tests (such as the t-test), it is important to summarize key descriptive statistics for each group. This allows us to understand the central tendency and variability in the Click-Through Rate (CTR) data for both the Light and Dark themes.\n",
    "\n",
    "The three key statistics we extract are:\n",
    "- **Mean (Average CTR):** This tells us the typical click-through rate for each theme.\n",
    "- **Standard Deviation (Dispersion):** This measures how spread out the CTR values are within each theme.\n",
    "- **Sample Size:** This indicates how many observations (users) were exposed to each theme.\n",
    "\n",
    "By computing these values first, we ensure that we have a clear understanding of the data before performing hypothesis testing.\n"
   ]
  },
  {
   "cell_type": "code",
   "execution_count": 33,
   "id": "ebd028e7-409a-4ccb-8e1b-715b65d5b581",
   "metadata": {},
   "outputs": [
    {
     "name": "stdout",
     "output_type": "stream",
     "text": [
      "Means:  [0.24710871082680833, 0.2645008624648531]\n",
      "Standard deviations:  [0.1371565217446859, 0.1408418676499008]\n",
      "Sample Sizes:  [486, 514]\n"
     ]
    }
   ],
   "source": [
    "means = []\n",
    "stdevs = []\n",
    "sample_sizes = [] \n",
    "\n",
    "for theme in df['Theme'].unique():\n",
    "    n = df['Click Through Rate'][df['Theme']==theme].shape[0]\n",
    "    sample_sizes.append(n) \n",
    "    mean = df['Click Through Rate'][df['Theme']==theme].mean()\n",
    "    means.append(mean)\n",
    "    stdev = df['Click Through Rate'][df['Theme']==theme].std()\n",
    "    stdevs.append(stdev) \n",
    "\n",
    "print('Means: ', means) \n",
    "print('Standard deviations: ', stdevs)\n",
    "print('Sample Sizes: ', sample_sizes) "
   ]
  },
  {
   "cell_type": "markdown",
   "id": "b4bfe1ce-8bb2-4998-9499-6466abefd929",
   "metadata": {},
   "source": [
    "# **Independent Samples T-Test: Manual Calculation**\n",
    "\n",
    "## **Why Are We Running This Test?**\n",
    "The goal of this test is to determine whether the **Click-Through Rate (CTR)** differs significantly between the **Light Theme** and **Dark Theme** groups. Since we are comparing the means of two independent groups, we use an **Independent Samples T-Test**.\n",
    "\n",
    "However, before running the t-test, we performed **Levene’s Test for Equality of Variances**, which showed that the variances of both groups are statistically similar (p-value > 0.05). This means we can assume equal variances and proceed with the **pooled variance t-test**, rather than Welch’s t-test, which would be required if the variances were unequal.\n",
    "\n",
    "---\n",
    "\n",
    "## **Understanding the Statistical Concepts**\n",
    "We will compute the following:\n",
    "\n",
    "### **1. Difference Between Means**\n",
    "$$\n",
    "\\text{Difference} = \\bar{X}_1 - \\bar{X}_2\n",
    "$$\n",
    "This measures how much the average Click-Through Rate (CTR) differs between the Light and Dark themes.\n",
    "\n",
    "### **2. Degrees of Freedom (df)**\n",
    "Since we assume equal variances, the degrees of freedom for an independent t-test is calculated as:\n",
    "\n",
    "$$\n",
    "df = (n_1 - 1) + (n_2 - 1) = n_1 + n_2 - 2\n",
    "$$\n",
    "\n",
    "This accounts for the total number of observations while adjusting for the two sample groups.\n",
    "\n",
    "### **3. Pooled Variance (Equal Variance Assumption)**\n",
    "Since Levene’s test confirmed equal variances, we use **pooled variance**, which combines the variance estimates from both groups:\n",
    "\n",
    "$$\n",
    "s_p^2 = \\frac{(n_1 - 1)s_1^2 + (n_2 - 1)s_2^2}{df}\n",
    "$$\n",
    "\n",
    "This formula weights each sample’s variance by its degrees of freedom, ensuring a more stable estimate.\n",
    "\n",
    "### **4. Standard Error (SE) of the Difference in Means**\n",
    "$$\n",
    "SE = \\sqrt{s_p^2 \\times \\left(\\frac{1}{n_1} + \\frac{1}{n_2}\\right)}\n",
    "$$\n",
    "The standard error accounts for the variability in sample means and helps determine whether the difference between the two groups is meaningful.\n",
    "\n",
    "### **5. T-Statistic**\n",
    "$$\n",
    "t = \\frac{\\bar{X}_1 - \\bar{X}_2}{SE}\n",
    "$$\n",
    "The t-statistic measures how many standard errors the observed difference is from 0.\n",
    "\n",
    "### **6. P-Value**\n",
    "$$\n",
    "p = 2 \\times P(T > |t|)\n",
    "$$\n",
    "The p-value tells us the probability of obtaining a difference as extreme as the one observed if the null hypothesis (no difference) is true. Since this is a **two-tailed** test, we multiply by 2.\n",
    "\n",
    "---\n",
    "\n",
    "## **Why Are We Using Pooled Variance Instead of Welch’s T-Test?**\n",
    "- **Levene’s Test Outcome:** Since Levene’s test failed to reject the null hypothesis (p > 0.05), we assume that the variances in both groups are equal.\n",
    "- **Consequence:** Under equal variance assumption, using pooled variance provides more statistical power than Welch’s test, which is used when variances are unequal.\n",
    "- **If Variances Were Unequal?** We would use Welch’s t-test (`equal_var=False` in `scipy.stats.ttest_ind`), which adjusts for variance differences.\n"
   ]
  },
  {
   "cell_type": "code",
   "execution_count": 35,
   "id": "00798484-12e8-49dc-9a18-495b7bb6c6cc",
   "metadata": {},
   "outputs": [],
   "source": [
    "from scipy.stats import t as t_student"
   ]
  },
  {
   "cell_type": "code",
   "execution_count": 36,
   "id": "65eb6f46-79a3-480c-a84d-aa8f2d675f48",
   "metadata": {},
   "outputs": [
    {
     "name": "stdout",
     "output_type": "stream",
     "text": [
      "Degrees of freedom:  998\n",
      "Pooled variance: 0.019338543597324936\n",
      "Difference between means: -0.017392151638044778\n",
      "Standard Error: 0.008798571909437\n",
      "T statistic: 1.9767016530706132\n",
      "Manually Calculated P-Value: 0.048350311405825\n"
     ]
    }
   ],
   "source": [
    "difference_means = means[0] - means[1]  # Difference between group means\n",
    "deg_freedom = sum([(n-1) for n in sample_sizes])  \n",
    "print('Degrees of freedom: ', deg_freedom)\n",
    "pooled_variance = 0\n",
    "for i in range(len(sample_sizes)):\n",
    "    n_minus_one = sample_sizes[i] - 1 \n",
    "    pooled_variance += n_minus_one * (stdevs[i]**2)\n",
    "pooled_variance = pooled_variance/deg_freedom\n",
    "print(f\"Pooled variance: {pooled_variance}\")\n",
    "stnd_error=np.sqrt(pooled_variance * sum([1/n for n in sample_sizes])) \n",
    "\n",
    "\n",
    "print(f\"Difference between means: {difference_means}\")\n",
    "print(f\"Standard Error: {stnd_error}\") \n",
    "\n",
    "t_manual = abs(difference_means / stnd_error)  \n",
    "print(f\"T statistic: {t_manual}\")\n",
    "p_manual = 2 * t_student.sf(t_manual, deg_freedom)\n",
    "print(f\"Manually Calculated P-Value: {p_manual}\")"
   ]
  },
  {
   "cell_type": "markdown",
   "id": "71135e1b-4f6a-4e97-9e01-c21f6ba72b1a",
   "metadata": {},
   "source": [
    "# **Automating the T-Test with `scipy.stats.ttest_ind`**\n",
    "\n",
    "## **Everything We Did Manually Can Be Done with a Single Function**\n",
    "\n",
    "Previously, we manually computed the **t-statistic** and **p-value** step by step. However, Python provides a built-in function, `scipy.stats.ttest_ind`, that automates this entire process in a single line of code.\n",
    "\n",
    "Below, we break down each part of the function so that you understand exactly what it does.\n",
    "\n",
    "---\n",
    "\n",
    "## **1. Importing the Necessary Function**\n",
    "```python\n",
    "from scipy.stats import ttest_ind\n",
    "```\n",
    "After these lines, we have:\n",
    "\n",
    "- `dark_theme_ctr`: A list of CTR values for users who saw the Dark Theme.\n",
    "- `light_theme_ctr`: A list of CTR values for users who saw the Light Theme.\n",
    "\n",
    "\n",
    "`t_scipy, p_value = ttest_ind(dark_theme_ctr, light_theme_ctr, equal_var=True)`\n",
    "\n",
    "- **`t_scipy`** → The computed **t-statistic**.\n",
    "- **`p_value`** → The **p-value**, which helps determine statistical significance.\n",
    "- **`equal_var=True`**  \n",
    "  - This tells `ttest_ind` that the two groups **have equal variances**.\n",
    "  - We set this to `True` **because Levene’s Test confirmed equal variances**.\n",
    "  - If **Levene’s test had rejected the null hypothesis** (indicating unequal variances), we would set `equal_var=False`, which would make `ttest_ind` run **Welch’s T-test** instead.\n"
   ]
  },
  {
   "cell_type": "code",
   "execution_count": 38,
   "id": "358117a6-c9d6-446f-9285-33afe8f7abad",
   "metadata": {},
   "outputs": [
    {
     "name": "stdout",
     "output_type": "stream",
     "text": [
      "Scipy T-statistic: 1.9767016530706143\n",
      "Scipy p-value: 0.04835031140582486\n"
     ]
    }
   ],
   "source": [
    "from scipy.stats import ttest_ind\n",
    "\n",
    "# Extract Click-Through Rate values for both themes\n",
    "dark_theme_ctr = df[df['Theme'] == 'Dark Theme']['Click Through Rate']\n",
    "light_theme_ctr = df[df['Theme'] == 'Light Theme']['Click Through Rate']\n",
    "\n",
    "# Run independent T-test\n",
    "t_scipy, p_value = ttest_ind(dark_theme_ctr, light_theme_ctr, equal_var=True)  # Set to False if Levene's test fails\n",
    "\n",
    "# Print results\n",
    "print(f\"Scipy T-statistic: {abs(t_scipy)}\")\n",
    "print(f\"Scipy p-value: {p_value}\")\n"
   ]
  },
  {
   "cell_type": "markdown",
   "id": "f45e0f0d-527b-470d-bb30-fc5d3dad2446",
   "metadata": {},
   "source": [
    "## **Conclusion: Manual Calculation vs. SciPy's `ttest_ind`**\n",
    "\n",
    "The manually computed **t-statistic** and **p-value** closely match the results obtained from SciPy's `ttest_ind()` function:\n",
    "\n",
    "| **Metric**         | **Manual Calculation**  | **SciPy's `ttest_ind`** |\n",
    "|--------------------|------------------------|-------------------------|\n",
    "| **T-Statistic**    | 1.9767016530706132     | 1.9767016530706143      |\n",
    "| **P-Value**       | 0.048350311405825      | 0.04835031140582486     |\n",
    "\n",
    "### **Key Observations**\n",
    "1. **Negligible Difference in T-Statistic**  \n",
    "   - The difference between the manually computed t-statistic (**1.9767016530706132**) and SciPy's result (**1.9767016530706143**) is **extremely small** (on the order of \\(10^{-15}\\)).  \n",
    "   - This is due to floating-point precision limitations in Python but is **not practically significant**.\n",
    "\n",
    "2. **Identical P-Values Up to Precision Limits**  \n",
    "   - The manually calculated p-value (**0.048350311405825**) and SciPy's output (**0.04835031140582486**) differ **only at the 15th decimal place**.  \n",
    "   - This negligible discrepancy is purely computational and does **not** impact the hypothesis test's outcome.\n",
    "\n",
    "### **Final Interpretation**\n",
    "- The **manual computation correctly replicates the t-test**, verifying that SciPy's `ttest_ind()` performs the same statistical operations internally.\n",
    "- **Both methods lead to the same conclusion:**  \n",
    "  - Since the **p-value (≈ 0.04835) is slightly below the conventional threshold of 0.05**, we **reject the null hypothesis** at a 5% significance level.  \n",
    "  - However, the result is **marginally significant**, meaning the evidence for a difference in click-through rates is not overwhelmingly strong.\n",
    "\n",
    "### **Practical Recommendation**\n",
    "- Since SciPy's `ttest_ind()` automates the t-test and ensures accuracy, it should be the **preferred method for future analyses**.\n",
    "- The **manual calculation remains valuable for learning and verification**, helping ensure an understanding of statistical concepts.\n"
   ]
  },
  {
   "cell_type": "code",
   "execution_count": 40,
   "id": "12377ab1-53d2-4803-866c-2125d141f90c",
   "metadata": {},
   "outputs": [
    {
     "name": "stdout",
     "output_type": "stream",
     "text": [
      "Reject null hypothesis. There is a significant difference between the means\n"
     ]
    }
   ],
   "source": [
    "alpha = 0.05\n",
    "if p_value > alpha:\n",
    "    print('Fail to reject null hypothesis. No significant difference between the means') \n",
    "else:\n",
    "    print('Reject null hypothesis. There is a significant difference between the means') "
   ]
  },
  {
   "cell_type": "markdown",
   "id": "17ca508b-373e-4d47-b6cb-f1081a8c3bc0",
   "metadata": {},
   "source": [
    "## <font color=red>**Conclusion**</red>\n",
    "\n",
    "The goal of this analysis is **not** to decide whether to implement a new feature but rather to evaluate whether there is a **true performance difference** between the two layouts (Light Theme vs. Dark Theme), as explained on the dataset's description on the link.\n",
    "> An online bookstore is looking to optimize its website design to improve user engagement and ultimately increase book purchases. The website currently offers two themes for its users: “Light Theme” and “Dark Theme.” The bookstore’s data science team wants to conduct an A/B testing experiment to determine which theme leads to better user engagement and higher conversion rates for book purchases.\n",
    "\n",
    "Based on **click-through rate (CTR) alone**, the evidence is **marginal**, and it does not provide an unequivocal answer to whether one layout definitively outperforms the other.\n",
    "\n",
    "### **Key Points to Emphasize**\n",
    "1. **Marginal Significance**  \n",
    "   - Although the p-value is just below 0.05, the effect size is small, indicating that **if** there is a difference, it may be minimal in practical terms.\n",
    "\n",
    "2. **Limits of a Single Metric**  \n",
    "   - CTR alone **cannot conclusively prove or disprove** a true performance difference between the themes.\n",
    "   - Other metrics (e.g., time on site, conversion rates, return visits) may offer additional insight into user behavior and engagement.\n",
    "\n",
    "3. **Need for Broader Analysis**  \n",
    "   - To **confidently** determine whether one theme genuinely outperforms the other, consider:\n",
    "     - **Multiple Performance Indicators**: Session duration, pages per session, conversion rates, etc.  \n",
    "     - **User Segmentation**: Performance may vary across different user demographics or usage contexts.\n",
    "\n",
    "### **Bottom Line**\n",
    "Given the **borderline statistical significance** and the **narrow focus on CTR**, we cannot **definitively conclude** that one theme is superior overall. For a more **robust** conclusion, analyze a **broader set of user engagement and conversion metrics** to see if the Dark Theme truly offers meaningful advantages—or if the observed difference is simply **not strong enough** to warrant action or a definitive claim of better performance.\n"
   ]
  },
  {
   "cell_type": "code",
   "execution_count": null,
   "id": "6f3d546d-e1db-4949-b340-42a260bbffe0",
   "metadata": {},
   "outputs": [],
   "source": []
  }
 ],
 "metadata": {
  "kernelspec": {
   "display_name": "Python 3 (ipykernel)",
   "language": "python",
   "name": "python3"
  },
  "language_info": {
   "codemirror_mode": {
    "name": "ipython",
    "version": 3
   },
   "file_extension": ".py",
   "mimetype": "text/x-python",
   "name": "python",
   "nbconvert_exporter": "python",
   "pygments_lexer": "ipython3",
   "version": "3.12.4"
  }
 },
 "nbformat": 4,
 "nbformat_minor": 5
}
